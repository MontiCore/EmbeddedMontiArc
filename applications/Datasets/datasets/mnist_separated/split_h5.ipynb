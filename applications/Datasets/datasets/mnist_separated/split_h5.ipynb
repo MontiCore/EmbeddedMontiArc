{
 "cells": [
  {
   "cell_type": "code",
   "execution_count": 9,
   "metadata": {},
   "outputs": [],
   "source": [
    "import pathlib\n",
    "\n",
    "import h5py\n",
    "import numpy as np"
   ]
  },
  {
   "cell_type": "code",
   "execution_count": 10,
   "metadata": {},
   "outputs": [
    {
     "data": {
      "text/plain": [
       "<HDF5 file \"train.h5\" (mode r)>"
      ]
     },
     "execution_count": 10,
     "metadata": {},
     "output_type": "execute_result"
    }
   ],
   "source": [
    "file = h5py.File(pathlib.Path(\"train.h5\"), \"r\")\n",
    "\n",
    "# return np.array(file[\"data\"]), np.array(test[\"softmax_label\"])\n",
    "file"
   ]
  },
  {
   "cell_type": "code",
   "execution_count": 11,
   "metadata": {},
   "outputs": [],
   "source": [
    "new_file_1 = h5py.File(pathlib.Path(\"train1.h5\"), \"w\")\n",
    "new_file_2 = h5py.File(pathlib.Path(\"train2.h5\"), \"w\")\n"
   ]
  },
  {
   "cell_type": "code",
   "execution_count": 30,
   "metadata": {},
   "outputs": [],
   "source": [
    "index = int(file[\"softmax_label\"].size / 2)\n",
    "\n",
    "for name, dataset in file.items():\n",
    "    new_file_1.create_dataset(name=name, data=dataset[:index])\n",
    "    new_file_2.create_dataset(name=name, data=dataset[index:])"
   ]
  },
  {
   "cell_type": "code",
   "execution_count": null,
   "metadata": {},
   "outputs": [],
   "source": [
    "# Testing\n",
    "\n",
    "new_file_test_1 = h5py.File(pathlib.Path(\"train1.h5\"), \"r\")\n",
    "new_file_test_2 = h5py.File(pathlib.Path(\"train2.h5\"), \"r\")"
   ]
  }
 ],
 "metadata": {
  "interpreter": {
   "hash": "f98d0bd5402eec6f888508102c44d35a953a72cba83f94b1dc03d185836d1fa3"
  },
  "kernelspec": {
   "display_name": "Python 3.10.2 ('.venv': venv)",
   "language": "python",
   "name": "python3"
  },
  "language_info": {
   "codemirror_mode": {
    "name": "ipython",
    "version": 3
   },
   "file_extension": ".py",
   "mimetype": "text/x-python",
   "name": "python",
   "nbconvert_exporter": "python",
   "pygments_lexer": "ipython3",
   "version": "3.10.5"
  },
  "orig_nbformat": 4
 },
 "nbformat": 4,
 "nbformat_minor": 2
}
